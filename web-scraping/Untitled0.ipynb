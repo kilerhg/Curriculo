{
  "nbformat": 4,
  "nbformat_minor": 0,
  "metadata": {
    "colab": {
      "name": "Untitled0.ipynb",
      "provenance": [],
      "authorship_tag": "ABX9TyOXsvZ6xlAcPYnob/62YMW0"
    },
    "kernelspec": {
      "name": "python3",
      "display_name": "Python 3"
    }
  },
  "cells": [
    {
      "cell_type": "code",
      "metadata": {
        "id": "UJf6BcG6_7R8"
      },
      "source": [
        "pip install scrapy"
      ],
      "execution_count": null,
      "outputs": []
    },
    {
      "cell_type": "code",
      "metadata": {
        "id": "EMX1ZGH1AIvE"
      },
      "source": [
        "import scrapy"
      ],
      "execution_count": 3,
      "outputs": []
    }
  ]
}